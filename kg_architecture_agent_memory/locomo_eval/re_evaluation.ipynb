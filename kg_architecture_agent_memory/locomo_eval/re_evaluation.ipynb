{
 "cells": [
  {
   "cell_type": "code",
   "execution_count": 14,
   "metadata": {},
   "outputs": [],
   "source": [
    "import json\n",
    "from tqdm import tqdm\n",
    "import numpy as np"
   ]
  },
  {
   "cell_type": "markdown",
   "metadata": {},
   "source": [
    "# Load Original Locomo dataset"
   ]
  },
  {
   "cell_type": "code",
   "execution_count": 15,
   "metadata": {},
   "outputs": [],
   "source": [
    "original_data = json.load(open(\"data/locomo.json\"))"
   ]
  },
  {
   "cell_type": "code",
   "execution_count": 20,
   "metadata": {},
   "outputs": [
    {
     "name": "stdout",
     "output_type": "stream",
     "text": [
      "10\n"
     ]
    }
   ],
   "source": [
    "print(len(original_data))"
   ]
  },
  {
   "cell_type": "markdown",
   "metadata": {},
   "source": [
    "# [IMPORTANT] Download the files from the Google Drive Folder. The folder contains 10 runs of Zep on correct implementation."
   ]
  },
  {
   "cell_type": "markdown",
   "metadata": {},
   "source": [
    "Link: https://drive.google.com/drive/folders/1wi3dYQmuV-1rpZD5MVFRcyw6dudW8D--?usp=drive_link"
   ]
  },
  {
   "cell_type": "markdown",
   "metadata": {},
   "source": [
    "Place the folder `eval_files` in the same directory as this notebook."
   ]
  },
  {
   "cell_type": "markdown",
   "metadata": {},
   "source": [
    "# Create Mappings of Question and Category"
   ]
  },
  {
   "cell_type": "code",
   "execution_count": 17,
   "metadata": {},
   "outputs": [],
   "source": [
    "accuracy_list = []\n",
    "\n",
    "def run_eval(index):\n",
    "\n",
    "    zep_data = json.load(open(f\"eval_files/zep_locomo_grades_{index}.json\"))\n",
    "\n",
    "    # Initialize counters\n",
    "    correct = 0\n",
    "    incorrect = 0\n",
    "    total_questions = 0\n",
    "\n",
    "    # Process each user's data\n",
    "    for i in tqdm(range(len(original_data))):\n",
    "        zep_results = zep_data[f\"locomo_experiment_user_{i}\"]\n",
    "        original_data_item = original_data[i][\"qa\"]\n",
    "\n",
    "        # Validate data integrity\n",
    "        if len(original_data_item) != len(zep_results):\n",
    "            print(f\"Error: Length mismatch for user {i}\")\n",
    "            continue\n",
    "\n",
    "        # Process each question for the current user\n",
    "        for j in range(len(original_data_item)):\n",
    "            question_original = original_data_item[j][\"question\"]\n",
    "            category = original_data_item[j][\"category\"]\n",
    "            question_zep = zep_results[j][\"question\"]\n",
    "\n",
    "            # Ensure questions match between datasets\n",
    "            if question_original != question_zep:\n",
    "                print(f\"Error: Question mismatch for user {i} at index {j}\")\n",
    "                continue\n",
    "\n",
    "            # Extract answer data\n",
    "            zep_answer = zep_results[j][\"answer\"]\n",
    "            zep_grade = zep_results[j][\"grade\"]\n",
    "            total_questions += 1\n",
    "\n",
    "            # Count correct/incorrect answers (excluding category 5)\n",
    "            if category != 5:\n",
    "                if zep_grade:\n",
    "                    correct += 1\n",
    "                else:\n",
    "                    incorrect += 1\n",
    "    print(f\"Results Summary:\")\n",
    "    print(f\"📊 Total questions in LOCOMO dataset: {total_questions}\")\n",
    "    print(f\"📊 Total questions in LOCOMO dataset (without category 5): {correct + incorrect}\")\n",
    "    print(f\"✓ Correct answers: {correct}\")\n",
    "    print(f\"✗ Incorrect answers: {incorrect}\")\n",
    "    print(f\"📈 Accuracy rate: {correct/(correct + incorrect):.2%}\")\n",
    "    accuracy_list.append(correct/(correct + incorrect))\n"
   ]
  },
  {
   "cell_type": "code",
   "execution_count": 18,
   "metadata": {},
   "outputs": [
    {
     "name": "stderr",
     "output_type": "stream",
     "text": [
      "100%|██████████| 10/10 [00:00<00:00, 17978.16it/s]\n"
     ]
    },
    {
     "name": "stdout",
     "output_type": "stream",
     "text": [
      "Results Summary:\n",
      "📊 Total questions in LOCOMO dataset: 1986\n",
      "📊 Total questions in LOCOMO dataset (without category 5): 1540\n",
      "✓ Correct answers: 901\n",
      "✗ Incorrect answers: 639\n",
      "📈 Accuracy rate: 58.51%\n",
      "--------------------------------\n"
     ]
    },
    {
     "name": "stderr",
     "output_type": "stream",
     "text": [
      "100%|██████████| 10/10 [00:00<00:00, 20126.22it/s]\n"
     ]
    },
    {
     "name": "stdout",
     "output_type": "stream",
     "text": [
      "Results Summary:\n",
      "📊 Total questions in LOCOMO dataset: 1986\n",
      "📊 Total questions in LOCOMO dataset (without category 5): 1540\n",
      "✓ Correct answers: 903\n",
      "✗ Incorrect answers: 637\n",
      "📈 Accuracy rate: 58.64%\n",
      "--------------------------------\n"
     ]
    },
    {
     "name": "stderr",
     "output_type": "stream",
     "text": [
      "100%|██████████| 10/10 [00:00<00:00, 13833.46it/s]\n"
     ]
    },
    {
     "name": "stdout",
     "output_type": "stream",
     "text": [
      "Results Summary:\n",
      "📊 Total questions in LOCOMO dataset: 1986\n",
      "📊 Total questions in LOCOMO dataset (without category 5): 1540\n",
      "✓ Correct answers: 898\n",
      "✗ Incorrect answers: 642\n",
      "📈 Accuracy rate: 58.31%\n",
      "--------------------------------\n"
     ]
    },
    {
     "name": "stderr",
     "output_type": "stream",
     "text": [
      "100%|██████████| 10/10 [00:00<00:00, 6531.15it/s]\n"
     ]
    },
    {
     "name": "stdout",
     "output_type": "stream",
     "text": [
      "Results Summary:\n",
      "📊 Total questions in LOCOMO dataset: 1986\n",
      "📊 Total questions in LOCOMO dataset (without category 5): 1540\n",
      "✓ Correct answers: 904\n",
      "✗ Incorrect answers: 636\n",
      "📈 Accuracy rate: 58.70%\n",
      "--------------------------------\n"
     ]
    },
    {
     "name": "stderr",
     "output_type": "stream",
     "text": [
      "100%|██████████| 10/10 [00:00<00:00, 8430.76it/s]\n"
     ]
    },
    {
     "name": "stdout",
     "output_type": "stream",
     "text": [
      "Results Summary:\n",
      "📊 Total questions in LOCOMO dataset: 1986\n",
      "📊 Total questions in LOCOMO dataset (without category 5): 1540\n",
      "✓ Correct answers: 896\n",
      "✗ Incorrect answers: 644\n",
      "📈 Accuracy rate: 58.18%\n",
      "--------------------------------\n"
     ]
    },
    {
     "name": "stderr",
     "output_type": "stream",
     "text": [
      "100%|██████████| 10/10 [00:00<00:00, 17855.70it/s]\n"
     ]
    },
    {
     "name": "stdout",
     "output_type": "stream",
     "text": [
      "Results Summary:\n",
      "📊 Total questions in LOCOMO dataset: 1986\n",
      "📊 Total questions in LOCOMO dataset (without category 5): 1540\n",
      "✓ Correct answers: 897\n",
      "✗ Incorrect answers: 643\n",
      "📈 Accuracy rate: 58.25%\n",
      "--------------------------------\n"
     ]
    },
    {
     "name": "stderr",
     "output_type": "stream",
     "text": [
      "100%|██████████| 10/10 [00:00<00:00, 8538.89it/s]\n"
     ]
    },
    {
     "name": "stdout",
     "output_type": "stream",
     "text": [
      "Results Summary:\n",
      "📊 Total questions in LOCOMO dataset: 1986\n",
      "📊 Total questions in LOCOMO dataset (without category 5): 1540\n",
      "✓ Correct answers: 902\n",
      "✗ Incorrect answers: 638\n",
      "📈 Accuracy rate: 58.57%\n",
      "--------------------------------\n"
     ]
    },
    {
     "name": "stderr",
     "output_type": "stream",
     "text": [
      "100%|██████████| 10/10 [00:00<00:00, 14685.94it/s]\n"
     ]
    },
    {
     "name": "stdout",
     "output_type": "stream",
     "text": [
      "Results Summary:\n",
      "📊 Total questions in LOCOMO dataset: 1986\n",
      "📊 Total questions in LOCOMO dataset (without category 5): 1540\n",
      "✓ Correct answers: 902\n",
      "✗ Incorrect answers: 638\n",
      "📈 Accuracy rate: 58.57%\n",
      "--------------------------------\n"
     ]
    },
    {
     "name": "stderr",
     "output_type": "stream",
     "text": [
      "100%|██████████| 10/10 [00:00<00:00, 29248.98it/s]\n"
     ]
    },
    {
     "name": "stdout",
     "output_type": "stream",
     "text": [
      "Results Summary:\n",
      "📊 Total questions in LOCOMO dataset: 1986\n",
      "📊 Total questions in LOCOMO dataset (without category 5): 1540\n",
      "✓ Correct answers: 895\n",
      "✗ Incorrect answers: 645\n",
      "📈 Accuracy rate: 58.12%\n",
      "--------------------------------\n"
     ]
    },
    {
     "name": "stderr",
     "output_type": "stream",
     "text": [
      "100%|██████████| 10/10 [00:00<00:00, 17512.75it/s]"
     ]
    },
    {
     "name": "stdout",
     "output_type": "stream",
     "text": [
      "Results Summary:\n",
      "📊 Total questions in LOCOMO dataset: 1986\n",
      "📊 Total questions in LOCOMO dataset (without category 5): 1540\n",
      "✓ Correct answers: 902\n",
      "✗ Incorrect answers: 638\n",
      "📈 Accuracy rate: 58.57%\n",
      "--------------------------------\n"
     ]
    },
    {
     "name": "stderr",
     "output_type": "stream",
     "text": [
      "\n"
     ]
    }
   ],
   "source": [
    "for i in range(1, 11):\n",
    "    run_eval(i)\n",
    "    print(\"--------------------------------\")"
   ]
  },
  {
   "cell_type": "code",
   "execution_count": 19,
   "metadata": {},
   "outputs": [
    {
     "name": "stdout",
     "output_type": "stream",
     "text": [
      "Mean accuracy: 58.44%\n",
      "Standard deviation: 0.20%\n"
     ]
    }
   ],
   "source": [
    "mean_accuracy = np.mean(accuracy_list)\n",
    "std_accuracy = np.std(accuracy_list)\n",
    "print(f\"Mean accuracy: {mean_accuracy:.2%}\")\n",
    "print(f\"Standard deviation: {std_accuracy:.2%}\")"
   ]
  },
  {
   "cell_type": "markdown",
   "metadata": {},
   "source": [
    "# latency"
   ]
  },
  {
   "cell_type": "code",
   "execution_count": 30,
   "metadata": {},
   "outputs": [],
   "source": [
    "latency_zep = json.load(open(\"data/zep_locomo_search_results.json\"))\n",
    "\n",
    "all_latencies = []\n",
    "\n",
    "for key, value in latency_zep.items():\n",
    "    for item in value:\n",
    "        all_latencies.append(item['duration_ms'])"
   ]
  },
  {
   "cell_type": "code",
   "execution_count": 31,
   "metadata": {},
   "outputs": [
    {
     "name": "stdout",
     "output_type": "stream",
     "text": [
      "P50 (median) latency: 508.01 ms\n",
      "P95 latency: 1148.48 ms\n"
     ]
    }
   ],
   "source": [
    "import numpy as np\n",
    "\n",
    "# Calculate percentiles\n",
    "p50 = np.percentile(all_latencies, 50)\n",
    "p95 = np.percentile(all_latencies, 95)\n",
    "\n",
    "print(f\"P50 (median) latency: {p50:.2f} ms\")\n",
    "print(f\"P95 latency: {p95:.2f} ms\")\n"
   ]
  },
  {
   "cell_type": "code",
   "execution_count": null,
   "metadata": {},
   "outputs": [],
   "source": []
  }
 ],
 "metadata": {
  "kernelspec": {
   "display_name": "base",
   "language": "python",
   "name": "python3"
  },
  "language_info": {
   "codemirror_mode": {
    "name": "ipython",
    "version": 3
   },
   "file_extension": ".py",
   "mimetype": "text/x-python",
   "name": "python",
   "nbconvert_exporter": "python",
   "pygments_lexer": "ipython3",
   "version": "3.12.4"
  }
 },
 "nbformat": 4,
 "nbformat_minor": 2
}
