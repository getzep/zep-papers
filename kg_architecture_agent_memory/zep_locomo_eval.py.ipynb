{
 "cells": [
  {
   "cell_type": "code",
   "id": "initial_id",
   "metadata": {
    "collapsed": true
   },
   "source": [
    "from sympy.stats.sampling.sample_scipy import scipy\n",
    "######## Installations\n",
    "\n",
    "!pip install zep-cloud openai gdown\n",
    "!pip install scipy"
   ],
   "outputs": [],
   "execution_count": null
  },
  {
   "metadata": {},
   "cell_type": "code",
   "source": [
    "######## Imports\n",
    "\n",
    "import asyncio\n",
    "import pandas as pd\n",
    "import openai\n",
    "import gdown\n",
    "import json\n",
    "import tarfile\n",
    "from zep_cloud.client import AsyncZep\n",
    "from zep_cloud import Message\n",
    "from openai import AsyncOpenAI\n",
    "from dotenv import load_dotenv\n",
    "import os\n",
    "import scipy.stats as stats\n",
    "from datetime import datetime, timezone\n",
    "from pydantic import BaseModel, Field\n",
    "from zep_cloud import Message, EntityEdge, EntityNode\n",
    "from time import time"
   ],
   "id": "708169894cc04bc3",
   "outputs": [],
   "execution_count": null
  },
  {
   "metadata": {},
   "cell_type": "code",
   "source": [
    "######## Download the eval dataset from github\n",
    "\n",
    "import requests\n",
    "\n",
    "url = \"https://raw.githubusercontent.com/snap-research/locomo/refs/heads/main/data/locomo10.json\"\n",
    "response = requests.get(url)\n",
    "locomo_df = pd.read_json(url)\n",
    "data = response.json()\n",
    "\n",
    "os.makedirs(\"data\", exist_ok=True)\n",
    "\n",
    "with open(\"./data/locomo.json\", \"w\") as f:\n",
    "    json.dump(data, f, indent=2)\n",
    "\n",
    "print(\"JSON saved to ./data/locomo.json\")"
   ],
   "id": "7dea4cd5bafb5ef1",
   "outputs": [],
   "execution_count": null
  },
  {
   "metadata": {},
   "cell_type": "code",
   "source": "locomo_df.head()",
   "id": "666e1883142ac20e",
   "outputs": [],
   "execution_count": null
  },
  {
   "metadata": {},
   "cell_type": "code",
   "source": [
    "######## Start up Zep and OpenAI clients\n",
    "load_dotenv()\n",
    "\n",
    "# , base_url=\"https://api.development.getzep.com/api/v2\"\n",
    "\n",
    "zep = AsyncZep(api_key=os.getenv(\"ZEP_API_KEY\"), base_url=\"https://api.getzep.com/api/v2\")\n",
    "oai_client = AsyncOpenAI(\n",
    "    api_key=os.getenv(\"OPENAI_API_KEY\"),\n",
    ")"
   ],
   "id": "dbf3df2c2cab2248",
   "outputs": [],
   "execution_count": null
  },
  {
   "metadata": {},
   "cell_type": "code",
   "source": [
    "######## LongMemEval  - ingest each multi-session as its own single Zep user/session pair\n",
    "\n",
    "num_users = 10\n",
    "max_session_count = 35\n",
    "\n",
    "for user_idx in range(num_users):\n",
    "    conversation = locomo_df['conversation'].iloc[user_idx]\n",
    "    user_id = \"locomo_experiment_user_\" + str(user_idx)\n",
    "    session_id = \"locomo_experiment_session_\" + str(user_idx)\n",
    "    print(user_id)\n",
    "    \n",
    "    first_name = locomo_df['conversation'].iloc[user_idx]['speaker_a']\n",
    "    \n",
    "    try:\n",
    "        await zep.user.add(user_id=user_id, first_name=first_name)\n",
    "        await zep.memory.add_session(\n",
    "            user_id=user_id,\n",
    "            session_id=session_id,\n",
    "        )\n",
    "    except:\n",
    "        pass\n",
    "    \n",
    "    # Uncomment this code to delete existing users\n",
    "    # try:\n",
    "    #     await zep.user.delete(user_id)\n",
    "    #     await zep.memory.delete(session_id)\n",
    "    # except:\n",
    "    #     pass\n",
    "    # \n",
    "    # continue\n",
    "\n",
    "    for session_idx in range(max_session_count):\n",
    "        session_key = f'session_{session_idx}'\n",
    "        print(session_key)\n",
    "        session = locomo_df['conversation'].iloc[user_idx].get(f'session_{session_idx}')\n",
    "        if session is None:\n",
    "            continue\n",
    "        \n",
    "        for msg in session:\n",
    "            # Get date\n",
    "            session_date = locomo_df['conversation'].iloc[user_idx].get(f'session_{session_idx}_date_time') + ' UTC'\n",
    "            date_format = '%I:%M %p on %d %B, %Y UTC'\n",
    "            date_string = datetime.strptime(session_date, date_format).replace(tzinfo=timezone.utc)\n",
    "            iso_date = date_string.isoformat()\n",
    "            \n",
    "            # Get speaker and role\n",
    "            speaker = msg.get('speaker')\n",
    "            role_type = 'user' if speaker == first_name else 'norole'\n",
    "            \n",
    "            \n",
    "            await zep.memory.add(session_id=session_id, messages=[Message(role=speaker, role_type=role_type, content=msg.get('text'), created_at=date_string.isoformat())])"
   ],
   "id": "7716ca7f8101e373",
   "outputs": [],
   "execution_count": null
  },
  {
   "metadata": {},
   "cell_type": "code",
   "source": "locomo_df['conversation'].iloc[0].get('session_1')",
   "id": "d0a516970ac3afba",
   "outputs": [],
   "execution_count": null
  },
  {
   "metadata": {},
   "cell_type": "code",
   "source": "",
   "id": "1726b4ae5c984e4d",
   "outputs": [],
   "execution_count": null
  }
 ],
 "metadata": {
  "kernelspec": {
   "display_name": "Python 3",
   "language": "python",
   "name": "python3"
  },
  "language_info": {
   "codemirror_mode": {
    "name": "ipython",
    "version": 2
   },
   "file_extension": ".py",
   "mimetype": "text/x-python",
   "name": "python",
   "nbconvert_exporter": "python",
   "pygments_lexer": "ipython2",
   "version": "2.7.6"
  }
 },
 "nbformat": 4,
 "nbformat_minor": 5
}
